{
  "nbformat": 4,
  "nbformat_minor": 0,
  "metadata": {
    "colab": {
      "name": "TP1.ipynb",
      "provenance": [],
      "collapsed_sections": [],
      "include_colab_link": true
    },
    "kernelspec": {
      "name": "python3",
      "display_name": "Python 3"
    }
  },
  "cells": [
    {
      "cell_type": "markdown",
      "metadata": {
        "id": "view-in-github",
        "colab_type": "text"
      },
      "source": [
        "<a href=\"https://colab.research.google.com/github/navila96/asdasdnasnjbfj/blob/master/TP1.ipynb\" target=\"_parent\"><img src=\"https://colab.research.google.com/assets/colab-badge.svg\" alt=\"Open In Colab\"/></a>"
      ]
    },
    {
      "cell_type": "markdown",
      "metadata": {
        "id": "pvNeywnRDqO6",
        "colab_type": "text"
      },
      "source": [
        "# 75.06/95.58 Organización de Datos\n",
        "# Primer Cuatrimestre de 2020\n",
        "# Trabajo Práctico 1: Enunciado\n"
      ]
    },
    {
      "cell_type": "markdown",
      "metadata": {
        "id": "V93xhGtJJki2",
        "colab_type": "text"
      },
      "source": [
        "El trabajo práctico 1 de la materia se basa en el análisis de los tweets del set de datos de la competencia: https://www.kaggle.com/c/nlp-getting-started.  \n",
        "\n",
        "* `id` - identificador unico para cada  tweet\n",
        "\n",
        "* `text` - el texto del tweet\n",
        "\n",
        "* `location` - ubicación desde donde fue enviado (podría no estar)\n",
        "\n",
        "* `keyword` - un keyword para el tweet  (podría faltar)\n",
        "\n",
        "* `target` - en train.csv, indica si se trata de un desastre real  (1) o no (0)\n",
        "\n",
        "\n",
        "\n"
      ]
    },
    {
      "cell_type": "markdown",
      "metadata": {
        "id": "6_H5bXYMKKRD",
        "colab_type": "text"
      },
      "source": [
        "El objetivo del primer TP es realizar un análisis exploratorio del set de datos. Queremos ver qué cosas podemos descubrir sobre los datos que puedan resultar interesantes. Estas cosas pueden estar relacionadas al objetivo del TP2 (predecir si un cierto tweet es real o no) o no, ambas son de interés."
      ]
    },
    {
      "cell_type": "markdown",
      "metadata": {
        "id": "xrBYVjlHKPqg",
        "colab_type": "text"
      },
      "source": [
        "Los requisitos de la primera entrega son los siguientes:\n",
        "\n",
        "* El análisis debe estar hecho en Python Pandas o R.\n",
        "\n",
        "* El análisis debe entregarse en formato pdf vía gradescope. En el informe no va código.\n",
        "\n",
        "* Informar el link a un repositorio Github en donde pueda bajarse el código completo para generar el análisis.\n"
      ]
    },
    {
      "cell_type": "markdown",
      "metadata": {
        "id": "GC0EYA0aKrJQ",
        "colab_type": "text"
      },
      "source": [
        "La evaluación del TP se realizará en base al siguiente criterio:\n",
        "\n",
        "* Originalidad del análisis exploratorio. \n",
        "\n",
        "* Calidad del reporte. ¿Está bien escrito? ¿Es claro y preciso? \n",
        "\n",
        "* Calidad del análisis exploratorio: qué tipo de preguntas se hacen y de qué forma se responden, ¿es la respuesta clara y concisa con respecto a la pregunta formulada? \n",
        "\n",
        "* Calidad de las visualizaciones presentadas.\n",
        " * ¿Tienen todos los ejes su rótulo?\n",
        " * ¿Tiene cada visualización un título?\n",
        " * ¿Es entendible la visualización sin tener que leer la explicación?\n",
        " * ¿El tipo de plot elegido es adecuado para lo que se quiere visualizar?\n",
        " * ¿Es una visualización interesante?\n",
        " * ¿El uso del color es adecuado?\n",
        " * ¿Hay un exceso o falta de elementos visuales en la visualización elegida?\n",
        " * ¿La visualización es consistente con los datos?\n",
        " * Conclusiones presentadas.\n",
        " * ¿Presenta el grupo un listado de \"insights\" aprendidos sobre los datos en base al análisis realizado? ¿Es interesante? \n"
      ]
    },
    {
      "cell_type": "markdown",
      "metadata": {
        "id": "Pm6FEtM9LhKX",
        "colab_type": "text"
      },
      "source": [
        "# Resolución de Trabajo Práctico"
      ]
    },
    {
      "cell_type": "markdown",
      "metadata": {
        "id": "feiOmooav_PV",
        "colab_type": "text"
      },
      "source": [
        "## Instalación"
      ]
    },
    {
      "cell_type": "code",
      "metadata": {
        "id": "wSrG5eGbL1mo",
        "colab_type": "code",
        "outputId": "884c7a26-295b-4c2b-b0b1-2e14e5f6238e",
        "colab": {
          "base_uri": "https://localhost:8080/",
          "height": 85
        }
      },
      "source": [
        "!pip install pyspark\n",
        "!pip install -U -q PyDrive\n",
        "!apt install openjdk-8-jdk-headless -qq\n",
        "import os\n",
        "os.environ[\"JAVA_HOME\"] = \"/usr/lib/jvm/java-8-openjdk-amd64\""
      ],
      "execution_count": 0,
      "outputs": [
        {
          "output_type": "stream",
          "text": [
            "Requirement already satisfied: pyspark in /usr/local/lib/python3.6/dist-packages (2.4.5)\n",
            "Requirement already satisfied: py4j==0.10.7 in /usr/local/lib/python3.6/dist-packages (from pyspark) (0.10.7)\n",
            "openjdk-8-jdk-headless is already the newest version (8u252-b09-1~18.04).\n",
            "0 upgraded, 0 newly installed, 0 to remove and 31 not upgraded.\n"
          ],
          "name": "stdout"
        }
      ]
    },
    {
      "cell_type": "markdown",
      "metadata": {
        "id": "eLPejHavwNcQ",
        "colab_type": "text"
      },
      "source": [
        "## Comienzo de Análisis"
      ]
    },
    {
      "cell_type": "code",
      "metadata": {
        "id": "f8ahBBIaL4lA",
        "colab_type": "code",
        "colab": {}
      },
      "source": [
        "import pandas as pd\n",
        "import numpy as np\n",
        "import seaborn as sns\n",
        "import matplotlib.pyplot as plt\n",
        "%matplotlib inline"
      ],
      "execution_count": 0,
      "outputs": []
    },
    {
      "cell_type": "code",
      "metadata": {
        "id": "rCZdioHWL7Sj",
        "colab_type": "code",
        "colab": {}
      },
      "source": [
        "#from pydrive.auth import GoogleAuth\n",
        "#from pydrive.drive import GoogleDrive\n",
        "#from google.colab import auth\n",
        "#from oauth2client.client import GoogleCredentials\n",
        "\n",
        "# Authenticate and create the PyDrive client\n",
        "#auth.authenticate_user()\n",
        "#gauth = GoogleAuth()\n",
        "#gauth.credentials = GoogleCredentials.get_application_default()\n",
        "#drive = GoogleDrive(gauth)"
      ],
      "execution_count": 0,
      "outputs": []
    },
    {
      "cell_type": "code",
      "metadata": {
        "id": "Fwb2H39DMAw4",
        "colab_type": "code",
        "colab": {}
      },
      "source": [
        "#id='13LZQbAQVwkJ4V1d6EZWnAS_STsxP32Wk'\n",
        "#downloaded = drive.CreateFile({'id': id})\n",
        "#downloaded.GetContentFile('train.csv')"
      ],
      "execution_count": 0,
      "outputs": []
    },
    {
      "cell_type": "code",
      "metadata": {
        "id": "fnHMAA7jMisI",
        "colab_type": "code",
        "outputId": "8f7241be-28d2-4ebe-ea99-09e5ec2847c1",
        "colab": {
          "base_uri": "https://localhost:8080/",
          "height": 419
        }
      },
      "source": [
        "# Load the Data and take a quick look.\n",
        "url = 'https://raw.githubusercontent.com/navila96/asdasdnasnjbfj/master/train.csv'\n",
        "train = pd.read_csv(url, encoding='latin-1')\n",
        "train"
      ],
      "execution_count": 0,
      "outputs": [
        {
          "output_type": "execute_result",
          "data": {
            "text/html": [
              "<div>\n",
              "<style scoped>\n",
              "    .dataframe tbody tr th:only-of-type {\n",
              "        vertical-align: middle;\n",
              "    }\n",
              "\n",
              "    .dataframe tbody tr th {\n",
              "        vertical-align: top;\n",
              "    }\n",
              "\n",
              "    .dataframe thead th {\n",
              "        text-align: right;\n",
              "    }\n",
              "</style>\n",
              "<table border=\"1\" class=\"dataframe\">\n",
              "  <thead>\n",
              "    <tr style=\"text-align: right;\">\n",
              "      <th></th>\n",
              "      <th>id</th>\n",
              "      <th>keyword</th>\n",
              "      <th>location</th>\n",
              "      <th>text</th>\n",
              "      <th>target</th>\n",
              "    </tr>\n",
              "  </thead>\n",
              "  <tbody>\n",
              "    <tr>\n",
              "      <th>0</th>\n",
              "      <td>1</td>\n",
              "      <td>NaN</td>\n",
              "      <td>NaN</td>\n",
              "      <td>Our Deeds are the Reason of this #earthquake M...</td>\n",
              "      <td>1</td>\n",
              "    </tr>\n",
              "    <tr>\n",
              "      <th>1</th>\n",
              "      <td>4</td>\n",
              "      <td>NaN</td>\n",
              "      <td>NaN</td>\n",
              "      <td>Forest fire near La Ronge Sask. Canada</td>\n",
              "      <td>1</td>\n",
              "    </tr>\n",
              "    <tr>\n",
              "      <th>2</th>\n",
              "      <td>5</td>\n",
              "      <td>NaN</td>\n",
              "      <td>NaN</td>\n",
              "      <td>All residents asked to 'shelter in place' are ...</td>\n",
              "      <td>1</td>\n",
              "    </tr>\n",
              "    <tr>\n",
              "      <th>3</th>\n",
              "      <td>6</td>\n",
              "      <td>NaN</td>\n",
              "      <td>NaN</td>\n",
              "      <td>13,000 people receive #wildfires evacuation or...</td>\n",
              "      <td>1</td>\n",
              "    </tr>\n",
              "    <tr>\n",
              "      <th>4</th>\n",
              "      <td>7</td>\n",
              "      <td>NaN</td>\n",
              "      <td>NaN</td>\n",
              "      <td>Just got sent this photo from Ruby #Alaska as ...</td>\n",
              "      <td>1</td>\n",
              "    </tr>\n",
              "    <tr>\n",
              "      <th>...</th>\n",
              "      <td>...</td>\n",
              "      <td>...</td>\n",
              "      <td>...</td>\n",
              "      <td>...</td>\n",
              "      <td>...</td>\n",
              "    </tr>\n",
              "    <tr>\n",
              "      <th>7608</th>\n",
              "      <td>10869</td>\n",
              "      <td>NaN</td>\n",
              "      <td>NaN</td>\n",
              "      <td>Two giant cranes holding a bridge collapse int...</td>\n",
              "      <td>1</td>\n",
              "    </tr>\n",
              "    <tr>\n",
              "      <th>7609</th>\n",
              "      <td>10870</td>\n",
              "      <td>NaN</td>\n",
              "      <td>NaN</td>\n",
              "      <td>@aria_ahrary @TheTawniest The out of control w...</td>\n",
              "      <td>1</td>\n",
              "    </tr>\n",
              "    <tr>\n",
              "      <th>7610</th>\n",
              "      <td>10871</td>\n",
              "      <td>NaN</td>\n",
              "      <td>NaN</td>\n",
              "      <td>M1.94 [01:04 UTC]?5km S of Volcano Hawaii. htt...</td>\n",
              "      <td>1</td>\n",
              "    </tr>\n",
              "    <tr>\n",
              "      <th>7611</th>\n",
              "      <td>10872</td>\n",
              "      <td>NaN</td>\n",
              "      <td>NaN</td>\n",
              "      <td>Police investigating after an e-bike collided ...</td>\n",
              "      <td>1</td>\n",
              "    </tr>\n",
              "    <tr>\n",
              "      <th>7612</th>\n",
              "      <td>10873</td>\n",
              "      <td>NaN</td>\n",
              "      <td>NaN</td>\n",
              "      <td>The Latest: More Homes Razed by Northern Calif...</td>\n",
              "      <td>1</td>\n",
              "    </tr>\n",
              "  </tbody>\n",
              "</table>\n",
              "<p>7613 rows × 5 columns</p>\n",
              "</div>"
            ],
            "text/plain": [
              "         id keyword  ...                                               text target\n",
              "0         1     NaN  ...  Our Deeds are the Reason of this #earthquake M...      1\n",
              "1         4     NaN  ...             Forest fire near La Ronge Sask. Canada      1\n",
              "2         5     NaN  ...  All residents asked to 'shelter in place' are ...      1\n",
              "3         6     NaN  ...  13,000 people receive #wildfires evacuation or...      1\n",
              "4         7     NaN  ...  Just got sent this photo from Ruby #Alaska as ...      1\n",
              "...     ...     ...  ...                                                ...    ...\n",
              "7608  10869     NaN  ...  Two giant cranes holding a bridge collapse int...      1\n",
              "7609  10870     NaN  ...  @aria_ahrary @TheTawniest The out of control w...      1\n",
              "7610  10871     NaN  ...  M1.94 [01:04 UTC]?5km S of Volcano Hawaii. htt...      1\n",
              "7611  10872     NaN  ...  Police investigating after an e-bike collided ...      1\n",
              "7612  10873     NaN  ...  The Latest: More Homes Razed by Northern Calif...      1\n",
              "\n",
              "[7613 rows x 5 columns]"
            ]
          },
          "metadata": {
            "tags": []
          },
          "execution_count": 23
        }
      ]
    },
    {
      "cell_type": "markdown",
      "metadata": {
        "id": "1SxylkoNYQlA",
        "colab_type": "text"
      },
      "source": [
        "### *Análisis Keyword vs. Target*"
      ]
    },
    {
      "cell_type": "code",
      "metadata": {
        "id": "1uuoFIeKY6Tr",
        "colab_type": "code",
        "outputId": "50f917d0-6bd4-4cfc-eb73-9752358d5f05",
        "colab": {
          "base_uri": "https://localhost:8080/",
          "height": 355
        }
      },
      "source": [
        "accident_count  = train['keyword'].value_counts()\n",
        "accident_count = accident_count[:10,]\n",
        "plt.figure(figsize=(10,5))\n",
        "sns.barplot(accident_count.values, accident_count.index, alpha=0.8)\n",
        "plt.title('Top 10 keywords')\n",
        "plt.xlabel('Number of Occurrences', fontsize=12)\n",
        "plt.ylabel('keyword', fontsize=12)\n",
        "plt.show()\n"
      ],
      "execution_count": 55,
      "outputs": [
        {
          "output_type": "display_data",
          "data": {
            "image/png": "[encoded data removed]",
            "text/plain": [
              "<Figure size 720x360 with 1 Axes>"
            ]
          },
          "metadata": {
            "tags": []
          }
        }
      ]
    },
    {
      "cell_type": "code",
      "metadata": {
        "id": "Ks26O8DiUaN1",
        "colab_type": "code",
        "outputId": "36e489dc-46c6-419a-de2a-fdd76fe4cd77",
        "colab": {
          "base_uri": "https://localhost:8080/",
          "height": 102
        }
      },
      "source": [
        "train['keyword'].describe()"
      ],
      "execution_count": 0,
      "outputs": [
        {
          "output_type": "execute_result",
          "data": {
            "text/plain": [
              "count           7552\n",
              "unique           221\n",
              "top       fatalities\n",
              "freq              45\n",
              "Name: keyword, dtype: object"
            ]
          },
          "metadata": {
            "tags": []
          },
          "execution_count": 25
        }
      ]
    },
    {
      "cell_type": "code",
      "metadata": {
        "id": "oTRmsDMVYpsU",
        "colab_type": "code",
        "outputId": "5d7bfb95-9bd0-4922-ea87-2b146d33a65f",
        "colab": {
          "base_uri": "https://localhost:8080/",
          "height": 170
        }
      },
      "source": [
        "(train['keyword'].value_counts()).describe()"
      ],
      "execution_count": 0,
      "outputs": [
        {
          "output_type": "execute_result",
          "data": {
            "text/plain": [
              "count    221.000000\n",
              "mean      34.171946\n",
              "std        4.786091\n",
              "min        9.000000\n",
              "25%       33.000000\n",
              "50%       35.000000\n",
              "75%       37.000000\n",
              "max       45.000000\n",
              "Name: keyword, dtype: float64"
            ]
          },
          "metadata": {
            "tags": []
          },
          "execution_count": 26
        }
      ]
    },
    {
      "cell_type": "code",
      "metadata": {
        "id": "alnJD3iyZQW4",
        "colab_type": "code",
        "outputId": "bb498c6d-49a3-4a25-f36a-7295922186e9",
        "colab": {
          "base_uri": "https://localhost:8080/",
          "height": 481
        }
      },
      "source": [
        "grouped = train.groupby(['keyword']).agg({'target':['count', 'min', 'mean', 'max']})\n",
        "grouped"
      ],
      "execution_count": 0,
      "outputs": [
        {
          "output_type": "execute_result",
          "data": {
            "text/html": [
              "<div>\n",
              "<style scoped>\n",
              "    .dataframe tbody tr th:only-of-type {\n",
              "        vertical-align: middle;\n",
              "    }\n",
              "\n",
              "    .dataframe tbody tr th {\n",
              "        vertical-align: top;\n",
              "    }\n",
              "\n",
              "    .dataframe thead tr th {\n",
              "        text-align: left;\n",
              "    }\n",
              "\n",
              "    .dataframe thead tr:last-of-type th {\n",
              "        text-align: right;\n",
              "    }\n",
              "</style>\n",
              "<table border=\"1\" class=\"dataframe\">\n",
              "  <thead>\n",
              "    <tr>\n",
              "      <th></th>\n",
              "      <th colspan=\"4\" halign=\"left\">target</th>\n",
              "    </tr>\n",
              "    <tr>\n",
              "      <th></th>\n",
              "      <th>count</th>\n",
              "      <th>min</th>\n",
              "      <th>mean</th>\n",
              "      <th>max</th>\n",
              "    </tr>\n",
              "    <tr>\n",
              "      <th>keyword</th>\n",
              "      <th></th>\n",
              "      <th></th>\n",
              "      <th></th>\n",
              "      <th></th>\n",
              "    </tr>\n",
              "  </thead>\n",
              "  <tbody>\n",
              "    <tr>\n",
              "      <th>ablaze</th>\n",
              "      <td>36</td>\n",
              "      <td>0</td>\n",
              "      <td>0.361111</td>\n",
              "      <td>1</td>\n",
              "    </tr>\n",
              "    <tr>\n",
              "      <th>accident</th>\n",
              "      <td>35</td>\n",
              "      <td>0</td>\n",
              "      <td>0.685714</td>\n",
              "      <td>1</td>\n",
              "    </tr>\n",
              "    <tr>\n",
              "      <th>aftershock</th>\n",
              "      <td>34</td>\n",
              "      <td>0</td>\n",
              "      <td>0.000000</td>\n",
              "      <td>0</td>\n",
              "    </tr>\n",
              "    <tr>\n",
              "      <th>airplane%20accident</th>\n",
              "      <td>35</td>\n",
              "      <td>0</td>\n",
              "      <td>0.857143</td>\n",
              "      <td>1</td>\n",
              "    </tr>\n",
              "    <tr>\n",
              "      <th>ambulance</th>\n",
              "      <td>38</td>\n",
              "      <td>0</td>\n",
              "      <td>0.526316</td>\n",
              "      <td>1</td>\n",
              "    </tr>\n",
              "    <tr>\n",
              "      <th>...</th>\n",
              "      <td>...</td>\n",
              "      <td>...</td>\n",
              "      <td>...</td>\n",
              "      <td>...</td>\n",
              "    </tr>\n",
              "    <tr>\n",
              "      <th>wounded</th>\n",
              "      <td>37</td>\n",
              "      <td>0</td>\n",
              "      <td>0.702703</td>\n",
              "      <td>1</td>\n",
              "    </tr>\n",
              "    <tr>\n",
              "      <th>wounds</th>\n",
              "      <td>33</td>\n",
              "      <td>0</td>\n",
              "      <td>0.303030</td>\n",
              "      <td>1</td>\n",
              "    </tr>\n",
              "    <tr>\n",
              "      <th>wreck</th>\n",
              "      <td>37</td>\n",
              "      <td>0</td>\n",
              "      <td>0.189189</td>\n",
              "      <td>1</td>\n",
              "    </tr>\n",
              "    <tr>\n",
              "      <th>wreckage</th>\n",
              "      <td>39</td>\n",
              "      <td>1</td>\n",
              "      <td>1.000000</td>\n",
              "      <td>1</td>\n",
              "    </tr>\n",
              "    <tr>\n",
              "      <th>wrecked</th>\n",
              "      <td>39</td>\n",
              "      <td>0</td>\n",
              "      <td>0.076923</td>\n",
              "      <td>1</td>\n",
              "    </tr>\n",
              "  </tbody>\n",
              "</table>\n",
              "<p>221 rows × 4 columns</p>\n",
              "</div>"
            ],
            "text/plain": [
              "                    target                  \n",
              "                     count min      mean max\n",
              "keyword                                     \n",
              "ablaze                  36   0  0.361111   1\n",
              "accident                35   0  0.685714   1\n",
              "aftershock              34   0  0.000000   0\n",
              "airplane%20accident     35   0  0.857143   1\n",
              "ambulance               38   0  0.526316   1\n",
              "...                    ...  ..       ...  ..\n",
              "wounded                 37   0  0.702703   1\n",
              "wounds                  33   0  0.303030   1\n",
              "wreck                   37   0  0.189189   1\n",
              "wreckage                39   1  1.000000   1\n",
              "wrecked                 39   0  0.076923   1\n",
              "\n",
              "[221 rows x 4 columns]"
            ]
          },
          "metadata": {
            "tags": []
          },
          "execution_count": 27
        }
      ]
    },
    {
      "cell_type": "code",
      "metadata": {
        "id": "OThZkH-4X8f8",
        "colab_type": "code",
        "outputId": "e9e6d4ce-be9a-4e0e-b870-23b986b382b0",
        "colab": {
          "base_uri": "https://localhost:8080/",
          "height": 481
        }
      },
      "source": [
        "grouped.loc[grouped[('target','mean')]>0.5,:].sort_values(('target','count'),ascending=False)"
      ],
      "execution_count": 0,
      "outputs": [
        {
          "output_type": "execute_result",
          "data": {
            "text/html": [
              "<div>\n",
              "<style scoped>\n",
              "    .dataframe tbody tr th:only-of-type {\n",
              "        vertical-align: middle;\n",
              "    }\n",
              "\n",
              "    .dataframe tbody tr th {\n",
              "        vertical-align: top;\n",
              "    }\n",
              "\n",
              "    .dataframe thead tr th {\n",
              "        text-align: left;\n",
              "    }\n",
              "\n",
              "    .dataframe thead tr:last-of-type th {\n",
              "        text-align: right;\n",
              "    }\n",
              "</style>\n",
              "<table border=\"1\" class=\"dataframe\">\n",
              "  <thead>\n",
              "    <tr>\n",
              "      <th></th>\n",
              "      <th colspan=\"4\" halign=\"left\">target</th>\n",
              "    </tr>\n",
              "    <tr>\n",
              "      <th></th>\n",
              "      <th>count</th>\n",
              "      <th>min</th>\n",
              "      <th>mean</th>\n",
              "      <th>max</th>\n",
              "    </tr>\n",
              "    <tr>\n",
              "      <th>keyword</th>\n",
              "      <th></th>\n",
              "      <th></th>\n",
              "      <th></th>\n",
              "      <th></th>\n",
              "    </tr>\n",
              "  </thead>\n",
              "  <tbody>\n",
              "    <tr>\n",
              "      <th>fatalities</th>\n",
              "      <td>45</td>\n",
              "      <td>0</td>\n",
              "      <td>0.577778</td>\n",
              "      <td>1</td>\n",
              "    </tr>\n",
              "    <tr>\n",
              "      <th>evacuate</th>\n",
              "      <td>40</td>\n",
              "      <td>0</td>\n",
              "      <td>0.625000</td>\n",
              "      <td>1</td>\n",
              "    </tr>\n",
              "    <tr>\n",
              "      <th>outbreak</th>\n",
              "      <td>40</td>\n",
              "      <td>0</td>\n",
              "      <td>0.975000</td>\n",
              "      <td>1</td>\n",
              "    </tr>\n",
              "    <tr>\n",
              "      <th>collided</th>\n",
              "      <td>40</td>\n",
              "      <td>0</td>\n",
              "      <td>0.575000</td>\n",
              "      <td>1</td>\n",
              "    </tr>\n",
              "    <tr>\n",
              "      <th>wreckage</th>\n",
              "      <td>39</td>\n",
              "      <td>1</td>\n",
              "      <td>1.000000</td>\n",
              "      <td>1</td>\n",
              "    </tr>\n",
              "    <tr>\n",
              "      <th>...</th>\n",
              "      <td>...</td>\n",
              "      <td>...</td>\n",
              "      <td>...</td>\n",
              "      <td>...</td>\n",
              "    </tr>\n",
              "    <tr>\n",
              "      <th>bombing</th>\n",
              "      <td>29</td>\n",
              "      <td>0</td>\n",
              "      <td>0.931034</td>\n",
              "      <td>1</td>\n",
              "    </tr>\n",
              "    <tr>\n",
              "      <th>volcano</th>\n",
              "      <td>27</td>\n",
              "      <td>0</td>\n",
              "      <td>0.666667</td>\n",
              "      <td>1</td>\n",
              "    </tr>\n",
              "    <tr>\n",
              "      <th>bush%20fires</th>\n",
              "      <td>25</td>\n",
              "      <td>0</td>\n",
              "      <td>0.720000</td>\n",
              "      <td>1</td>\n",
              "    </tr>\n",
              "    <tr>\n",
              "      <th>forest%20fire</th>\n",
              "      <td>19</td>\n",
              "      <td>0</td>\n",
              "      <td>0.789474</td>\n",
              "      <td>1</td>\n",
              "    </tr>\n",
              "    <tr>\n",
              "      <th>radiation%20emergency</th>\n",
              "      <td>9</td>\n",
              "      <td>0</td>\n",
              "      <td>0.555556</td>\n",
              "      <td>1</td>\n",
              "    </tr>\n",
              "  </tbody>\n",
              "</table>\n",
              "<p>86 rows × 4 columns</p>\n",
              "</div>"
            ],
            "text/plain": [
              "                      target                  \n",
              "                       count min      mean max\n",
              "keyword                                       \n",
              "fatalities                45   0  0.577778   1\n",
              "evacuate                  40   0  0.625000   1\n",
              "outbreak                  40   0  0.975000   1\n",
              "collided                  40   0  0.575000   1\n",
              "wreckage                  39   1  1.000000   1\n",
              "...                      ...  ..       ...  ..\n",
              "bombing                   29   0  0.931034   1\n",
              "volcano                   27   0  0.666667   1\n",
              "bush%20fires              25   0  0.720000   1\n",
              "forest%20fire             19   0  0.789474   1\n",
              "radiation%20emergency      9   0  0.555556   1\n",
              "\n",
              "[86 rows x 4 columns]"
            ]
          },
          "metadata": {
            "tags": []
          },
          "execution_count": 28
        }
      ]
    },
    {
      "cell_type": "markdown",
      "metadata": {
        "id": "nWYnWxe7Sjy0",
        "colab_type": "text"
      },
      "source": [
        "### *Otro Análisis*"
      ]
    },
    {
      "cell_type": "code",
      "metadata": {
        "id": "LQ_fZy0ZStF_",
        "colab_type": "code",
        "outputId": "faf0ab40-0d4c-423e-d4e6-e831e4bca4f2",
        "colab": {
          "base_uri": "https://localhost:8080/",
          "height": 102
        }
      },
      "source": [
        "train['location'].describe()"
      ],
      "execution_count": 0,
      "outputs": [
        {
          "output_type": "execute_result",
          "data": {
            "text/plain": [
              "count     5080\n",
              "unique    3341\n",
              "top        USA\n",
              "freq       104\n",
              "Name: location, dtype: object"
            ]
          },
          "metadata": {
            "tags": []
          },
          "execution_count": 29
        }
      ]
    },
    {
      "cell_type": "code",
      "metadata": {
        "id": "Hq8v8a70DRey",
        "colab_type": "code",
        "outputId": "1b4b89ec-067e-450a-a4a1-901df90b7bfe",
        "colab": {
          "base_uri": "https://localhost:8080/",
          "height": 221
        }
      },
      "source": [
        "train['location'].value_counts() > 20"
      ],
      "execution_count": 0,
      "outputs": [
        {
          "output_type": "execute_result",
          "data": {
            "text/plain": [
              "USA                            True\n",
              "New York                       True\n",
              "United States                  True\n",
              "London                         True\n",
              "Canada                         True\n",
              "                              ...  \n",
              "Mysore, Karnataka             False\n",
              "Jonesboro, AR MO, IOWA USA    False\n",
              "The Peach State               False\n",
              "am everywhere                 False\n",
              "Bangalore, INDIA              False\n",
              "Name: location, Length: 3341, dtype: bool"
            ]
          },
          "metadata": {
            "tags": []
          },
          "execution_count": 30
        }
      ]
    }
  ]
}